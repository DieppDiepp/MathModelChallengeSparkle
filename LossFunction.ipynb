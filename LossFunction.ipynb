{
 "cells": [
  {
   "cell_type": "markdown",
   "metadata": {},
   "source": [
    "# 2. Xây dựng hàm lỗi."
   ]
  },
  {
   "cell_type": "code",
   "execution_count": null,
   "metadata": {},
   "outputs": [],
   "source": []
  },
  {
   "cell_type": "markdown",
   "metadata": {},
   "source": [
    "Chúng tôi xây dựng hàm lỗi dựa trên ý tưởng hàm lỗi MSE trong mô hình hồi quy tuyến tính."
   ]
  },
  {
   "cell_type": "markdown",
   "metadata": {},
   "source": [
    "## 2.1. Ý tưởng xây dựng hàm lỗi."
   ]
  },
  {
   "cell_type": "markdown",
   "metadata": {},
   "source": [
    "Từ các tiêu chí trên, nhiệm vụ của chúng tôi là cần phải tìm ra lịch sắp xếp hợp lý nhất dựa trên thang đo hàm lỗi như sau\n",
    "$$f(x)=\\alpha_{1}.\\sum_{i=1}^{n}{(A_i - \\mu_K)^2} + \\alpha_{2}.\\sum_{i=1}^{m}{(4-K_i)^2} + \\alpha_{3}.\\sum_{i=1}^{m}{(\\mu_{đtnbsI} + \\mu_{đtnbsII} + 2*\\mu_{đtndd} - đtnbsI - đtnbsII - đtnddI - đtnddII)^2}$$\n",
    "Trong đó:\n",
    "- n là số nhân viên trực.\n",
    "- m là tổng số ca trực cần xếp.\n",
    "- $A_i$ là tổng số ca trực của nhân viên y tế thứ $i$.\n",
    "- $K_i$ là tổng số khoa có bác sỹ trực trong ca thứ $i$ (cần phải triển khai đối với từng chức vụ của từng nhân viên y tế).\n",
    "- $\\mu_Ki$ là trung bình số ca trực của một nhân viên y tế có chức vụ tương ứng cần phải trực.\n",
    "- $\\mu_{đtnbs}$ là điểm trung bình của tất cả bác sỹ trong danh sách nhân viên y tế.\n",
    "- $\\mu_{đtndd}$ là điểm trung bình của các điều dưỡng có trong danh sách nhân viên y tế.\n",
    "- $\\alpha_1, \\alpha_2, \\alpha_3$ là trọng số của các các hàm yếu tố lỗi."
   ]
  },
  {
   "cell_type": "markdown",
   "metadata": {},
   "source": [
    "## 2.2. Tính khả thi của hàm lỗi."
   ]
  },
  {
   "cell_type": "markdown",
   "metadata": {},
   "source": [
    "### 2.2.1. Số ca trực của mỗi nhân viên y tế."
   ]
  },
  {
   "cell_type": "markdown",
   "metadata": {},
   "source": [
    "Xét danh sách $X$ có $n$ nhân viên y tế, với nhiệm vụ là cần phân chia ca trực của họ vào $m$ ca khác nhau với mỗi ca có $4$ nhân viên y tế khác nhau. \n",
    "Gọi $A_i$ là số ca trực mà nhân viên thứ $i$ phải trực, ta luôn có: $$\\sum_{i=1}^{n}{A_i}=m*4$$\n",
    "Xét hàm số $h(x)=\\sum_{i=1}^{n}{(A_i-\\mu_{Ki})^2}$, với $\\mu_{Ki}$ là số ca trực trung bình của nhân viên y tế thứ $i$ dựa theo chức vụ của họ.\n",
    "\n",
    "Ta có hàm số đạt giá trị nhỏ nhất khi và chỉ khi:\n",
    "$$|A_1-\\mu_{K1}|=|A_2-\\mu_{K2}|=...=|A_n-\\mu_{Kn}|=0$$\n",
    "Điều này đồng nghĩa với việc chia đều số ca trực cho tất cả nhân viên y tế có trong danh sách nhân viên y tế.\n",
    "Vậy lỗi nhỏ nhất khi toàn bộ nhân viên y tế đều có cùng số ca trực với nhau $\\Rightarrow$ Phù hợp với tiêu chí số 1 đề ra."
   ]
  },
  {
   "cell_type": "markdown",
   "metadata": {},
   "source": [
    "### 2.2.2. Sự đa dạng về khoa trực."
   ]
  },
  {
   "cell_type": "markdown",
   "metadata": {},
   "source": [
    "Tính đa dạng về khoa trực trong mỗi ca trực cũng là một yếu tố cần được chú ý tới trong việc xếp lịch. Một lịch trực tốt là một lịch trực đảm bảo được yếu tố này. \n",
    "\n",
    "Xét một ca trực $i$ có $K_i$ số khoa trực với $K_i$ là biến nguyên với tập giá trị $K_i=\\{1, 2, 3, 4\\}$. Dễ dàng thấy được lỗi càng giảm khi $K_i$ càng lớn. Điều này có nghĩa rằng\n",
    "$$\\sum_{i=1}^{m}{(4-K_i)^2}$$\n",
    "đạt GTNN (tức bằng $0$) khi và chỉ khi $K_i=4,\\forall i \\in [1;n]$. Điều này thỏa mãn với tiêu chí tính đa dạng về số ca trực đã được đặt ra trước đó."
   ]
  },
  {
   "cell_type": "markdown",
   "metadata": {},
   "source": [
    "### 2.2.3. Sự cân bằng về kinh nghiệm làm việc."
   ]
  },
  {
   "cell_type": "markdown",
   "metadata": {},
   "source": [
    "Ngoài các tiêu chí do chương trình đề xuất, chúng tôi cũng đề xuất thêm tiêu chí kinh nghiệm làm việc của các nhân viên y tế cùng thực hiện. Điều này nhằm tạo điều kiện cho các cán bộ y bác sỹ có cơ hội được học tập lẫn nhau để trau dồi kinh nghiệm cho bản thân mình, đồng thời cũng đảm bảo chất lượng khám chữa bệnh giữa các ca trực. \n",
    "\n",
    "Gọi $\\mu_{NV}$ là điểm thâm niên trung bình nhân viên y tế của bệnh viện. Ta có:\n",
    "\n",
    "\n",
    "Tuy nhiên, chúng tôi tin rằng các y bác sỹ đã vào nghề đều có trình độ nhất định đảm bảo, nên yếu tố này sẽ không ảnh hưởng nhiều tới hàm lỗi. Vì vậy, trọng số của yếu tố lỗi này sẽ được xem xét với giá trị nhỏ hơn nhiều so với các tiêu chí trước."
   ]
  },
  {
   "cell_type": "code",
   "execution_count": null,
   "metadata": {},
   "outputs": [],
   "source": []
  }
 ],
 "metadata": {
  "kernelspec": {
   "display_name": "Python 3 (ipykernel)",
   "language": "python",
   "name": "python3"
  },
  "language_info": {
   "codemirror_mode": {
    "name": "ipython",
    "version": 3
   },
   "file_extension": ".py",
   "mimetype": "text/x-python",
   "name": "python",
   "nbconvert_exporter": "python",
   "pygments_lexer": "ipython3",
   "version": "3.11.5"
  }
 },
 "nbformat": 4,
 "nbformat_minor": 4
}
